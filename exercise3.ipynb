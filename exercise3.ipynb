{
 "cells": [
  {
   "cell_type": "markdown",
   "metadata": {},
   "source": [
    "# Exercise 3\n",
    "\n",
    "**Given a date interval in the format 'yyyy-mm-dd', plot data in the selected date interval. Repeate for a time interval ('hh:mm:ss')**\n",
    "\n",
    "Reference: selectdata.ipynb"
   ]
  },
  {
   "cell_type": "code",
   "execution_count": 1,
   "metadata": {},
   "outputs": [
    {
     "name": "stdout",
     "output_type": "stream",
     "text": [
      "Welcome to JupyROOT 6.18/04\n"
     ]
    }
   ],
   "source": [
    "from datetime import datetime\n",
    "from datetime import timezone\n",
    "from datetime import time\n",
    "from datetime import date\n",
    "from pytz import timezone\n",
    "from pytz import utc\n",
    "from ROOT import TCanvas, TGraph\n",
    "from array import array"
   ]
  },
  {
   "cell_type": "code",
   "execution_count": 2,
   "metadata": {},
   "outputs": [],
   "source": [
    "tz = \"Europe/Berlin\"\n",
    "local = timezone (tz)"
   ]
  },
  {
   "cell_type": "code",
   "execution_count": 3,
   "metadata": {},
   "outputs": [],
   "source": [
    "doc = open(\"bme680.dat\", \"r\")"
   ]
  },
  {
   "cell_type": "code",
   "execution_count": 4,
   "metadata": {},
   "outputs": [],
   "source": [
    "data = doc.read().splitlines()"
   ]
  },
  {
   "cell_type": "code",
   "execution_count": 5,
   "metadata": {},
   "outputs": [],
   "source": [
    "temperature = {}\n",
    "humidity = {}\n",
    "pressure = {}"
   ]
  },
  {
   "cell_type": "code",
   "execution_count": 6,
   "metadata": {},
   "outputs": [],
   "source": [
    "for line in data:\n",
    "    column = line.split()\n",
    "\n",
    "    date = column[0]\n",
    "    time = column[1]\n",
    "\n",
    "    year = int(date.split('-')[0])\n",
    "    month = int(date.split('-')[1])\n",
    "    day = int(date.split('-')[2])\n",
    "  \n",
    "    hour  = int(time.split(':')[0])\n",
    "    minutes  = int(time.split(':')[1])\n",
    "    seconds  = int(float(time.split(':')[2]))\n",
    "    \n",
    "    local_datetime = local.localize(datetime(year, month, day, hour, minutes, seconds))\n",
    "    utc_datetime = local_datetime.astimezone(utc)\n",
    "    unixtime = utc_datetime.replace(tzinfo=utc).timestamp()\n",
    "    \n",
    "    temperature[unixtime] = float(column[2])\n",
    "    humidity[unixtime] = float(column[3])\n",
    "    pressure[unixtime] = float(column[4])"
   ]
  },
  {
   "cell_type": "code",
   "execution_count": 7,
   "metadata": {},
   "outputs": [],
   "source": [
    "C1 = TCanvas('canvas', 'Temperature', 200, 10, 1000, 700)"
   ]
  },
  {
   "cell_type": "code",
   "execution_count": 8,
   "metadata": {},
   "outputs": [],
   "source": [
    "x,y = array('d'), array('d')\n",
    "xsel, ysel = array( 'd' ), array( 'd' )"
   ]
  },
  {
   "cell_type": "code",
   "execution_count": null,
   "metadata": {},
   "outputs": [],
   "source": []
  },
  {
   "cell_type": "code",
   "execution_count": 9,
   "metadata": {},
   "outputs": [],
   "source": [
    "timestamp1 = datetime(2020, 1, 11, 8, 0, 0).replace(tzinfo=utc).timestamp() \n",
    "timestamp2 = datetime(2020, 1, 11, 15, 0, 0).replace(tzinfo=utc).timestamp()"
   ]
  },
  {
   "cell_type": "code",
   "execution_count": 19,
   "metadata": {},
   "outputs": [
    {
     "data": {
      "text/plain": [
       "float"
      ]
     },
     "execution_count": 19,
     "metadata": {},
     "output_type": "execute_result"
    }
   ],
   "source": [
    "xmin = timestamp1\n",
    "xmax = timestamp2\n",
    "type(time)"
   ]
  },
  {
   "cell_type": "code",
   "execution_count": 11,
   "metadata": {},
   "outputs": [],
   "source": [
    "for time,temp in temperature.items():\n",
    "    if time>=xmin and time<=xmax:\n",
    "        xsel.append(time)\n",
    "        ysel.append(temp)"
   ]
  },
  {
   "cell_type": "code",
   "execution_count": 12,
   "metadata": {},
   "outputs": [
    {
     "name": "stdout",
     "output_type": "stream",
     "text": [
      "2508\n"
     ]
    }
   ],
   "source": [
    "print(len(xsel))"
   ]
  },
  {
   "cell_type": "code",
   "execution_count": 13,
   "metadata": {},
   "outputs": [],
   "source": [
    "gr = TGraph(len(xsel), xsel, ysel )\n",
    "gr.SetLineWidth(2)\n",
    "gr.SetLineColor(4)\n",
    "gr.SetTitle(\"Selected graph\")\n",
    "gr.GetXaxis().SetTitle(\"Time\")\n",
    "gr.GetYaxis().SetTitle(\"Temperature\")\n",
    "gr.GetXaxis().SetTimeDisplay(1)\n",
    "gr.GetXaxis().SetTimeFormat(\"%Y/%m/%d %H:%M:%S %F1970-01-01 00:00:00\");\n",
    "gr.GetXaxis().SetNdivisions(404)"
   ]
  },
  {
   "cell_type": "code",
   "execution_count": 14,
   "metadata": {},
   "outputs": [
    {
     "data": {
      "image/png": "[encoded data removed]",
      "text/plain": [
       "<IPython.core.display.Image object>"
      ]
     },
     "metadata": {},
     "output_type": "display_data"
    }
   ],
   "source": [
    "C1.Draw()\n",
    "gr.Draw( 'AC' )"
   ]
  },
  {
   "cell_type": "code",
   "execution_count": null,
   "metadata": {},
   "outputs": [],
   "source": []
  },
  {
   "cell_type": "code",
   "execution_count": null,
   "metadata": {},
   "outputs": [],
   "source": []
  }
 ],
 "metadata": {
  "kernelspec": {
   "display_name": "Python 3",
   "language": "python",
   "name": "python3"
  },
  "language_info": {
   "codemirror_mode": {
    "name": "ipython",
    "version": 3
   },
   "file_extension": ".py",
   "mimetype": "text/x-python",
   "name": "python",
   "nbconvert_exporter": "python",
   "pygments_lexer": "ipython3",
   "version": "3.6.8"
  }
 },
 "nbformat": 4,
 "nbformat_minor": 4
}
