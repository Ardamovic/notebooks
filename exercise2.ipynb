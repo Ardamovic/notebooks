{
 "cells": [
  {
   "cell_type": "markdown",
   "metadata": {},
   "source": [
    "# Exercise 2\n",
    "\n",
    "**Organise the data in different ways using dictionaries.**\n",
    "\n",
    "Reference: dictionary.ipynb"
   ]
  },
  {
   "cell_type": "code",
   "execution_count": 4,
   "metadata": {},
   "outputs": [],
   "source": [
    "from datetime import datetime\n",
    "from pytz import timezone\n",
    "from pytz import utc\n",
    "from ROOT import TCanvas, TGraph\n",
    "from array import array\n"
   ]
  },
  {
   "cell_type": "code",
   "execution_count": 5,
   "metadata": {},
   "outputs": [],
   "source": [
    "tz = \"Europe/Berlin\"\n",
    "local = timezone (tz)"
   ]
  },
  {
   "cell_type": "code",
   "execution_count": 6,
   "metadata": {},
   "outputs": [],
   "source": [
    "doc = open(\"bme680.dat\", \"r\")"
   ]
  },
  {
   "cell_type": "code",
   "execution_count": 7,
   "metadata": {},
   "outputs": [],
   "source": [
    "data = doc.read().splitlines()"
   ]
  },
  {
   "cell_type": "code",
   "execution_count": 8,
   "metadata": {},
   "outputs": [],
   "source": [
    "temperature = {}\n",
    "humidity = {}\n",
    "pressure = {}"
   ]
  },
  {
   "cell_type": "code",
   "execution_count": 9,
   "metadata": {},
   "outputs": [],
   "source": [
    "for line in data:\n",
    "    column = line.split()\n",
    "\n",
    "    date = column[0]\n",
    "    time = column[1]\n",
    "\n",
    "    year = int(date.split('-')[0])\n",
    "    month = int(date.split('-')[1])\n",
    "    day = int(date.split('-')[2])\n",
    "  \n",
    "    hour  = int(time.split(':')[0])\n",
    "    minutes  = int(time.split(':')[1])\n",
    "    seconds  = int(float(time.split(':')[2]))\n",
    "    \n",
    "    local_datetime = local.localize(datetime(year, month, day, hour, minutes, seconds))\n",
    "    utc_datetime = local_datetime.astimezone(utc)\n",
    "    unixtime = utc_datetime.replace(tzinfo=utc).timestamp()\n",
    "    \n",
    "    temperature[unixtime] = float(column[2])\n",
    "    humidity[unixtime] = float(column[3])\n",
    "    pressure[unixtime] = float(column[4])\n",
    "   "
   ]
  },
  {
   "cell_type": "code",
   "execution_count": 10,
   "metadata": {},
   "outputs": [],
   "source": [
    "C1 = TCanvas('Canv', 'Test', 200, 10, 1000, 700)"
   ]
  },
  {
   "cell_type": "code",
   "execution_count": 11,
   "metadata": {},
   "outputs": [],
   "source": [
    "x,y = array('d'), array('d')\n",
    "for time,temp in temperature.items():\n",
    "    x.append(time)\n",
    "    y.append(temp)"
   ]
  },
  {
   "cell_type": "code",
   "execution_count": 18,
   "metadata": {},
   "outputs": [],
   "source": [
    "n = len(x)"
   ]
  },
  {
   "cell_type": "code",
   "execution_count": 19,
   "metadata": {},
   "outputs": [],
   "source": [
    "gr = TGraph(n, x, y)"
   ]
  },
  {
   "cell_type": "code",
   "execution_count": 20,
   "metadata": {},
   "outputs": [],
   "source": [
    "gr.GetXaxis().SetTimeDisplay(1)\n",
    "gr.GetXaxis().SetTimeFormat(\"%Y/%m/%d %H:%M:%S %F1970-01-01 00:00:00\");\n",
    "gr.GetXaxis().SetNdivisions(405)"
   ]
  },
  {
   "cell_type": "code",
   "execution_count": 21,
   "metadata": {},
   "outputs": [],
   "source": [
    "gr.SetLineWidth(2)\n",
    "gr.SetLineColor(4)\n",
    "gr.SetTitle(\"Test graph\")\n",
    "gr.GetXaxis().SetTitle(\"Timestamp\")\n",
    "gr.GetYaxis().SetTitle(\"Temperature\")"
   ]
  },
  {
   "cell_type": "code",
   "execution_count": 22,
   "metadata": {},
   "outputs": [
    {
     "data": {
      "image/png": "[encoded data removed]",
      "text/plain": [
       "<IPython.core.display.Image object>"
      ]
     },
     "metadata": {},
     "output_type": "display_data"
    }
   ],
   "source": [
    "C1.Draw()\n",
    "gr.Draw( 'AC' )"
   ]
  },
  {
   "cell_type": "code",
   "execution_count": null,
   "metadata": {},
   "outputs": [],
   "source": []
  },
  {
   "cell_type": "code",
   "execution_count": null,
   "metadata": {},
   "outputs": [],
   "source": []
  }
 ],
 "metadata": {
  "kernelspec": {
   "display_name": "Python 3",
   "language": "python",
   "name": "python3"
  },
  "language_info": {
   "codemirror_mode": {
    "name": "ipython",
    "version": 3
   },
   "file_extension": ".py",
   "mimetype": "text/x-python",
   "name": "python",
   "nbconvert_exporter": "python",
   "pygments_lexer": "ipython3",
   "version": "3.6.8"
  }
 },
 "nbformat": 4,
 "nbformat_minor": 4
}
