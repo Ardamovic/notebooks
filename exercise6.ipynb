{
 "cells": [
  {
   "cell_type": "markdown",
   "metadata": {},
   "source": [
    "# Exercise 6\n",
    "\n",
    "**Use the developments from previous exercises to read data from 2 sensors, bme680.dat and bme680_1.dat, and plot the measurements of both sensors simultaneously.**\n",
    "\n",
    "Tip: Use ROOT's TMultiGraph class\n",
    "\n",
    "https://root.cern.ch/doc/master/classTMultiGraph.html"
   ]
  }
 ],
 "metadata": {
  "kernelspec": {
   "display_name": "Python 3",
   "language": "python",
   "name": "python3"
  },
  "language_info": {
   "codemirror_mode": {
    "name": "ipython",
    "version": 3
   },
   "file_extension": ".py",
   "mimetype": "text/x-python",
   "name": "python",
   "nbconvert_exporter": "python",
   "pygments_lexer": "ipython3",
   "version": "3.6.8"
  }
 },
 "nbformat": 4,
 "nbformat_minor": 4
}
