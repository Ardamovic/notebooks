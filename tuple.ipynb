{
 "cells": [
  {
   "cell_type": "markdown",
   "metadata": {},
   "source": [
    "# Tuples \n",
    "\n",
    "Tuples are like lists but they are immutable, i.e. you cannot change its elements\n",
    "\n",
    "https://docs.python.org/3.7/tutorial/datastructures.html#tuples-and-sequences\n"
   ]
  },
  {
   "cell_type": "code",
   "execution_count": 1,
   "metadata": {},
   "outputs": [],
   "source": [
    "measurements = []\n",
    "observables = (\"time\",\"temperature\",\"humidity\",\"pressure\")\n",
    "measure1 = (1578672498,20,80,1000)\n",
    "measure2 = (1578672598,21,81,1005)\n",
    "measure3 = (1578672658,22,82,1010)\n",
    "measurements.append(measure1)\n",
    "measurements.append(measure2)\n",
    "measurements.append(measure3)\n"
   ]
  },
  {
   "cell_type": "code",
   "execution_count": 2,
   "metadata": {},
   "outputs": [
    {
     "data": {
      "text/plain": [
       "[(1578672498, 20, 80, 1000),\n",
       " (1578672598, 21, 81, 1005),\n",
       " (1578672658, 22, 82, 1010)]"
      ]
     },
     "execution_count": 2,
     "metadata": {},
     "output_type": "execute_result"
    }
   ],
   "source": [
    "measurements"
   ]
  },
  {
   "cell_type": "markdown",
   "metadata": {},
   "source": [
    "Unpacking the measurements"
   ]
  },
  {
   "cell_type": "code",
   "execution_count": 3,
   "metadata": {},
   "outputs": [
    {
     "name": "stdout",
     "output_type": "stream",
     "text": [
      "20 80\n",
      "21 81\n",
      "22 82\n"
     ]
    }
   ],
   "source": [
    "for results in measurements:\n",
    "    time,temperature,humidity,pressure = results\n",
    "    print(temperature,humidity)"
   ]
  },
  {
   "cell_type": "markdown",
   "metadata": {},
   "source": [
    "**Aggregate elements using zip()**\n",
    "\n",
    "It can be used with any kind of iterables, e.g. list, tuple etc\n",
    "\n",
    "https://docs.python.org/3.7/library/functions.html#zip"
   ]
  },
  {
   "cell_type": "code",
   "execution_count": 4,
   "metadata": {},
   "outputs": [
    {
     "name": "stdout",
     "output_type": "stream",
     "text": [
      "1578672498 20\n",
      "1578672598 21\n",
      "1578672658 22\n"
     ]
    }
   ],
   "source": [
    "for results in measurements:\n",
    "    data = dict(zip(observables,results))\n",
    "    print(data[\"time\"], data[\"temperature\"])\n",
    "\n"
   ]
  },
  {
   "cell_type": "code",
   "execution_count": null,
   "metadata": {},
   "outputs": [],
   "source": []
  }
 ],
 "metadata": {
  "kernelspec": {
   "display_name": "Python 3",
   "language": "python",
   "name": "python3"
  },
  "language_info": {
   "codemirror_mode": {
    "name": "ipython",
    "version": 3
   },
   "file_extension": ".py",
   "mimetype": "text/x-python",
   "name": "python",
   "nbconvert_exporter": "python",
   "pygments_lexer": "ipython3",
   "version": "3.6.8"
  }
 },
 "nbformat": 4,
 "nbformat_minor": 4
}
