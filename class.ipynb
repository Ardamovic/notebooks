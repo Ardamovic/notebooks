{
 "cells": [
  {
   "cell_type": "markdown",
   "metadata": {},
   "source": [
    "# Class\n",
    "\n",
    "**Object oriented programming**\n",
    "\n",
    "group data (attributes) and functions (methods) in a logic way to simplify their use\n",
    "\n",
    "https://docs.python.org/3.7/tutorial/classes.html?highlight=class"
   ]
  },
  {
   "cell_type": "code",
   "execution_count": null,
   "metadata": {},
   "outputs": [],
   "source": [
    "from ROOT import TCanvas, TGraph\n",
    "from array import array\n",
    "from timestamp import unix_time\n",
    "from timestamp import date_time"
   ]
  },
  {
   "cell_type": "code",
   "execution_count": null,
   "metadata": {},
   "outputs": [],
   "source": []
  },
  {
   "cell_type": "code",
   "execution_count": null,
   "metadata": {},
   "outputs": [],
   "source": [
    "class EnvironmentSensor:\n",
    "    __observables = (\"time\",\"temperature\",\"humidity\",\"pressure\") # attribute of the class\n",
    "    \n",
    "    # constructor\n",
    "    def __init__(self, filename):    # filename is a parameter passed to the constructor\n",
    "        self.__filename = filename   # self.__filename is an instance variable\n",
    "        self.__data = []             # self.__data is an attribute of the instance\n",
    "        self.__readData()            # methods of the class can be called from the constructor\n",
    "    \n",
    "    # methods\n",
    "    @property                        # decorator that allows to use the method as if it were an attribute\n",
    "    def data(self):\n",
    "        return self.__data\n",
    "    \n",
    "    @property\n",
    "    def filename(self):\n",
    "        return self.__filename\n",
    "    \n",
    "    @property\n",
    "    def observables(self):\n",
    "        return EnvironmentSensor.__observables\n",
    "    \n",
    "    def __readData(self):# private method, cannot be used outside the class\n",
    "        doc = open(self.__filename, 'r')\n",
    "        data = doc.read().splitlines()\n",
    "        \n",
    "        for line in data:\n",
    "            column = line.split()\n",
    "    \n",
    "            time = unix_time(column[0], column[1])\n",
    "    \n",
    "            temperature = float(column[2])\n",
    "            humidity = float(column[3])\n",
    "            pressure = float(column[4])\n",
    "            \n",
    "            tup = (time,temperature,humidity,pressure)\n",
    "            self.__data.append(tup)\n",
    "            \n",
    "            # return print(self.__data)\n",
    "            \n",
    "    def getPlot(self,xvar,yvar,Date1 = None,Time1 = None,Date2 = None,Time2 = None):\n",
    "            if not xvar in self.observables or not yvar in self.observables:\n",
    "                raise Exception('Check your parameters. Possible observables: {}'.format(self.observables))           \n",
    "            self.__xvar = xvar\n",
    "            self.__yvar = yvar\n",
    "\n",
    "            x, y = array( 'd' ), array( 'd' )\n",
    "            for data in self.__data:\n",
    "                data_dict = dict(zip(self.observables,data))\n",
    "                if not (Date1 and  Date2 and Time1 and Time2):\n",
    "                    x.append(data_dict[self.__xvar])\n",
    "                    y.append(data_dict[self.__yvar])\n",
    "                else:\n",
    "                    timestamp1 = unix_time(Date1, Time1)\n",
    "                    timestamp2 = unix_time(Date2, Time2)\n",
    "                    xmin = timestamp1\n",
    "                    xmax = timestamp2\n",
    "                    if data_dict[\"time\"] >=xmin and data_dict[\"time\"] <=xmax:\n",
    "                        x.append(data_dict[self.__xvar])\n",
    "                        y.append(data_dict[self.__yvar])\n",
    "            n = len(x)\n",
    "            gr = TGraph( n, x, y )\n",
    "            gr.SetLineWidth(2)\n",
    "            gr.SetMarkerColor(2)\n",
    "            gr.SetMarkerStyle(10)\n",
    "            gr.SetMarkerSize(0.8)\n",
    "            gr.SetTitle(self.__yvar + \" versus \" + self.__xvar)\n",
    "            gr.GetXaxis().SetTitle(self.__xvar)\n",
    "            gr.GetYaxis().SetTitle(self.__yvar)\n",
    "            gr.GetXaxis().SetTimeDisplay(1)\n",
    "            gr.GetXaxis().SetTimeFormat(\"%Y/%m/%d %H:%M:%S %F1970-01-01 00:00:00\");\n",
    "            gr.GetXaxis().SetNdivisions(404)\n",
    "\n",
    "            return gr \n",
    " "
   ]
  },
  {
   "cell_type": "code",
   "execution_count": null,
   "metadata": {},
   "outputs": [],
   "source": [
    "sensor_1 = EnvironmentSensor('bme680.dat')"
   ]
  },
  {
   "cell_type": "code",
   "execution_count": null,
   "metadata": {},
   "outputs": [],
   "source": []
  },
  {
   "cell_type": "code",
   "execution_count": null,
   "metadata": {},
   "outputs": [],
   "source": [
    "c1 = TCanvas( 'c1', 'A Simple Graph', 200, 10, 1500, 500 )\n",
    "c1.Divide(3)"
   ]
  },
  {
   "cell_type": "code",
   "execution_count": null,
   "metadata": {},
   "outputs": [],
   "source": [
    "gr1 = sensor_1.getPlot(\"humidity\",\"temperature\",\"2020-01-11\",\"08:00:00\",\"2020-01-11\",\"15:00:00\")\n",
    "gr2 = sensor_1.getPlot(\"pressure\",\"temperature\")\n",
    "gr3 = sensor_1.getPlot(\"humidity\",\"pressure\")\n"
   ]
  },
  {
   "cell_type": "code",
   "execution_count": null,
   "metadata": {},
   "outputs": [],
   "source": [
    "c1.Draw()\n",
    "c1.cd(1)\n",
    "gr1.Draw( 'AP' )\n",
    "c1.cd(2)\n",
    "gr2.Draw( 'AP' )\n",
    "c1.cd(3)\n",
    "gr3.Draw( 'AP' )\n"
   ]
  },
  {
   "cell_type": "code",
   "execution_count": null,
   "metadata": {},
   "outputs": [],
   "source": [
    "c2 = TCanvas( 'c2', 'A Simple Graph', 200, 10, 700, 500 )"
   ]
  },
  {
   "cell_type": "code",
   "execution_count": null,
   "metadata": {},
   "outputs": [],
   "source": [
    "gr2 = sensor_1.getPlot(\"time\",\"pressure\")"
   ]
  },
  {
   "cell_type": "code",
   "execution_count": null,
   "metadata": {},
   "outputs": [],
   "source": [
    "c2.Draw()\n",
    "gr2.Draw(\"AP\")"
   ]
  },
  {
   "cell_type": "markdown",
   "metadata": {},
   "source": [
    "\n",
    "**Example of an attempt to access private class attribute and method**"
   ]
  },
  {
   "cell_type": "code",
   "execution_count": null,
   "metadata": {},
   "outputs": [],
   "source": [
    "print(sensor_1.__data)"
   ]
  },
  {
   "cell_type": "code",
   "execution_count": null,
   "metadata": {},
   "outputs": [],
   "source": [
    "sensor_1.__readData()"
   ]
  },
  {
   "cell_type": "code",
   "execution_count": null,
   "metadata": {},
   "outputs": [],
   "source": []
  },
  {
   "cell_type": "code",
   "execution_count": null,
   "metadata": {},
   "outputs": [],
   "source": []
  }
 ],
 "metadata": {
  "kernelspec": {
   "display_name": "Python 3",
   "language": "python",
   "name": "python3"
  },
  "language_info": {
   "codemirror_mode": {
    "name": "ipython",
    "version": 3
   },
   "file_extension": ".py",
   "mimetype": "text/x-python",
   "name": "python",
   "nbconvert_exporter": "python",
   "pygments_lexer": "ipython3",
   "version": "3.6.8"
  }
 },
 "nbformat": 4,
 "nbformat_minor": 4
}
