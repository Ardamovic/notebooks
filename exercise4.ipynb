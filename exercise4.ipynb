{
 "cells": [
  {
   "cell_type": "markdown",
   "metadata": {},
   "source": [
    "# Exercise 4\n",
    "\n",
    "**Use the functions from timestamp.py in exercise 3**\n",
    "\n",
    "Reference:\n",
    "timestamp.py\n",
    "function.ipynb\n",
    "function2.ipynb"
   ]
  },
  {
   "cell_type": "code",
   "execution_count": null,
   "metadata": {},
   "outputs": [],
   "source": [
    "from datetime import datetime\n",
    "from timestamp import unix_time\n",
    "from timestamp import date_time\n",
    "from pytz import timezone\n",
    "from pytz import utc\n",
    "from ROOT import TCanvas, TGraph\n",
    "from array import array"
   ]
  },
  {
   "cell_type": "code",
   "execution_count": null,
   "metadata": {},
   "outputs": [],
   "source": [
    "doc = open(\"bme680.dat\", \"r\")"
   ]
  },
  {
   "cell_type": "code",
   "execution_count": null,
   "metadata": {},
   "outputs": [],
   "source": [
    "data = doc.read().splitlines()"
   ]
  },
  {
   "cell_type": "code",
   "execution_count": null,
   "metadata": {},
   "outputs": [],
   "source": [
    "temperature = {}\n",
    "humidity = {}\n",
    "pressure = {}"
   ]
  },
  {
   "cell_type": "code",
   "execution_count": null,
   "metadata": {},
   "outputs": [],
   "source": [
    "for line in data:\n",
    "    column = line.split()\n",
    "    \n",
    "    date = column[0]\n",
    "    time = column[1]\n",
    "    \n",
    "    temperature[unix_time(date,time)] = float(column[2])\n",
    "    humidity[unix_time(date,time)] = float(column[3])\n",
    "    pressure[unix_time(date,time)] = float(column[4])\n"
   ]
  },
  {
   "cell_type": "code",
   "execution_count": null,
   "metadata": {},
   "outputs": [],
   "source": [
    "C1 = TCanvas('canvas', 'Temperature', 200, 10, 1000, 700)"
   ]
  },
  {
   "cell_type": "code",
   "execution_count": null,
   "metadata": {},
   "outputs": [],
   "source": [
    "x,y = array('d'), array('d')\n",
    "xsel, ysel = array( 'd' ), array( 'd' )"
   ]
  },
  {
   "cell_type": "code",
   "execution_count": null,
   "metadata": {},
   "outputs": [],
   "source": [
    "Date1 = '2020-01-11'\n",
    "Time1 = '08:00:00'\n",
    "Date2 = '2020-01-11'\n",
    "Time2 = '15:00:00'"
   ]
  },
  {
   "cell_type": "code",
   "execution_count": null,
   "metadata": {},
   "outputs": [],
   "source": [
    "timestamp1 = unix_time(Date1, Time1)\n",
    "timestamp2 = unix_time(Date2, Time2)"
   ]
  },
  {
   "cell_type": "code",
   "execution_count": null,
   "metadata": {},
   "outputs": [],
   "source": [
    "n = len(x)"
   ]
  },
  {
   "cell_type": "code",
   "execution_count": null,
   "metadata": {},
   "outputs": [],
   "source": [
    "xmin = float(timestamp1)\n",
    "xmax = float(timestamp2)\n",
    "type(time)"
   ]
  },
  {
   "cell_type": "code",
   "execution_count": null,
   "metadata": {},
   "outputs": [],
   "source": [
    "for time,temp in temperature.items():\n",
    "    type(time)\n",
    "    if time>=xmin and time<=xmax:\n",
    "        xsel.append(time)\n",
    "        ysel.append(temp)"
   ]
  },
  {
   "cell_type": "code",
   "execution_count": null,
   "metadata": {},
   "outputs": [],
   "source": [
    "gr = TGraph(len(xsel), xsel, ysel)\n",
    "gr.SetLineWidth(2)\n",
    "gr.SetLineColor(4)\n",
    "gr.GetXaxis().SetTimeDisplay(1)\n",
    "gr.GetXaxis().SetTimeFormat(\"%Y/%m/%d %H:%M:%S %F1970-01-01 00:00:00\");\n",
    "gr.GetXaxis().SetNdivisions(404)"
   ]
  },
  {
   "cell_type": "code",
   "execution_count": null,
   "metadata": {},
   "outputs": [],
   "source": [
    "C1.Draw()\n",
    "gr.Draw( 'AC' )"
   ]
  },
  {
   "cell_type": "code",
   "execution_count": null,
   "metadata": {},
   "outputs": [],
   "source": []
  }
 ],
 "metadata": {
  "kernelspec": {
   "display_name": "Python 3",
   "language": "python",
   "name": "python3"
  },
  "language_info": {
   "codemirror_mode": {
    "name": "ipython",
    "version": 3
   },
   "file_extension": ".py",
   "mimetype": "text/x-python",
   "name": "python",
   "nbconvert_exporter": "python",
   "pygments_lexer": "ipython3",
   "version": "3.6.8"
  }
 },
 "nbformat": 4,
 "nbformat_minor": 4
}
